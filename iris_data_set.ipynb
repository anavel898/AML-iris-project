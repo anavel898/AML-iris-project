{
  "nbformat": 4,
  "nbformat_minor": 0,
  "metadata": {
    "colab": {
      "name": "iris-data-set.ipynb",
      "provenance": [],
      "authorship_tag": "ABX9TyMAUU70Cg4+rlnYcnD24Cli",
      "include_colab_link": true
    },
    "kernelspec": {
      "name": "python3",
      "display_name": "Python 3"
    },
    "language_info": {
      "name": "python"
    }
  },
  "cells": [
    {
      "cell_type": "markdown",
      "metadata": {
        "id": "view-in-github",
        "colab_type": "text"
      },
      "source": [
        "<a href=\"https://colab.research.google.com/github/anavel898/AML-iris-project/blob/main/iris_data_set.ipynb\" target=\"_parent\"><img src=\"https://colab.research.google.com/assets/colab-badge.svg\" alt=\"Open In Colab\"/></a>"
      ]
    },
    {
      "cell_type": "markdown",
      "source": [
        "# Applied machine learning - basic project: Iris data set  \n",
        "The Iris data set is a multivariate data set containing data about 3 Iris species: Iris setosa, Iris versicolor and Iris virginica. Species represent classes in my ML framework. Each example has 4 numeric attributes - sepal length, sepal width, petal length and petal width.  \n",
        "The goal of my project is to find a machine learning model able to classify new examples of Irises desribed by these 4 attributes into one of the 3 species (classes). \n"
      ],
      "metadata": {
        "id": "GVqV-8hO27_n"
      }
    },
    {
      "cell_type": "markdown",
      "source": [
        "# 1. Loading the data set"
      ],
      "metadata": {
        "id": "JfDmmnPK9IWM"
      }
    },
    {
      "cell_type": "markdown",
      "source": [
        "I'm loading my data set as a pandas data frame.  \n",
        "My data set is availble on my github and I will loade it from there. I use the read_csv() function which is part of the pandas library. "
      ],
      "metadata": {
        "id": "N9zBadoW0uXs"
      }
    },
    {
      "cell_type": "code",
      "execution_count": null,
      "metadata": {
        "id": "Z1AzKRhL0VVw"
      },
      "outputs": [],
      "source": [
        "import pandas as pd"
      ]
    },
    {
      "cell_type": "code",
      "source": [
        "url='https://raw.githubusercontent.com/anavel898/AML-iris-project/main/iris.csv'\n",
        "names=['sepal-len','sepal-wid','petal-len','petal-wid','class']\n",
        "dataSet=pd.read_csv(url, names=names)  #assigning names to columns of the data frame\n"
      ],
      "metadata": {
        "id": "d6HRo4Xa1RF5"
      },
      "execution_count": null,
      "outputs": []
    },
    {
      "cell_type": "code",
      "source": [
        "dataSet"
      ],
      "metadata": {
        "colab": {
          "base_uri": "https://localhost:8080/",
          "height": 424
        },
        "id": "FpDmd7fs1h4T",
        "outputId": "950eacb5-0a73-4581-8b56-e79276579090"
      },
      "execution_count": null,
      "outputs": [
        {
          "output_type": "execute_result",
          "data": {
            "text/plain": [
              "     sepal-len  sepal-wid  petal-len  petal-wid           class\n",
              "0          5.1        3.5        1.4        0.2     Iris-setosa\n",
              "1          4.9        3.0        1.4        0.2     Iris-setosa\n",
              "2          4.7        3.2        1.3        0.2     Iris-setosa\n",
              "3          4.6        3.1        1.5        0.2     Iris-setosa\n",
              "4          5.0        3.6        1.4        0.2     Iris-setosa\n",
              "..         ...        ...        ...        ...             ...\n",
              "145        6.7        3.0        5.2        2.3  Iris-virginica\n",
              "146        6.3        2.5        5.0        1.9  Iris-virginica\n",
              "147        6.5        3.0        5.2        2.0  Iris-virginica\n",
              "148        6.2        3.4        5.4        2.3  Iris-virginica\n",
              "149        5.9        3.0        5.1        1.8  Iris-virginica\n",
              "\n",
              "[150 rows x 5 columns]"
            ],
            "text/html": [
              "\n",
              "  <div id=\"df-4d714dd3-2c20-4f80-9d91-5fd610b9cbb3\">\n",
              "    <div class=\"colab-df-container\">\n",
              "      <div>\n",
              "<style scoped>\n",
              "    .dataframe tbody tr th:only-of-type {\n",
              "        vertical-align: middle;\n",
              "    }\n",
              "\n",
              "    .dataframe tbody tr th {\n",
              "        vertical-align: top;\n",
              "    }\n",
              "\n",
              "    .dataframe thead th {\n",
              "        text-align: right;\n",
              "    }\n",
              "</style>\n",
              "<table border=\"1\" class=\"dataframe\">\n",
              "  <thead>\n",
              "    <tr style=\"text-align: right;\">\n",
              "      <th></th>\n",
              "      <th>sepal-len</th>\n",
              "      <th>sepal-wid</th>\n",
              "      <th>petal-len</th>\n",
              "      <th>petal-wid</th>\n",
              "      <th>class</th>\n",
              "    </tr>\n",
              "  </thead>\n",
              "  <tbody>\n",
              "    <tr>\n",
              "      <th>0</th>\n",
              "      <td>5.1</td>\n",
              "      <td>3.5</td>\n",
              "      <td>1.4</td>\n",
              "      <td>0.2</td>\n",
              "      <td>Iris-setosa</td>\n",
              "    </tr>\n",
              "    <tr>\n",
              "      <th>1</th>\n",
              "      <td>4.9</td>\n",
              "      <td>3.0</td>\n",
              "      <td>1.4</td>\n",
              "      <td>0.2</td>\n",
              "      <td>Iris-setosa</td>\n",
              "    </tr>\n",
              "    <tr>\n",
              "      <th>2</th>\n",
              "      <td>4.7</td>\n",
              "      <td>3.2</td>\n",
              "      <td>1.3</td>\n",
              "      <td>0.2</td>\n",
              "      <td>Iris-setosa</td>\n",
              "    </tr>\n",
              "    <tr>\n",
              "      <th>3</th>\n",
              "      <td>4.6</td>\n",
              "      <td>3.1</td>\n",
              "      <td>1.5</td>\n",
              "      <td>0.2</td>\n",
              "      <td>Iris-setosa</td>\n",
              "    </tr>\n",
              "    <tr>\n",
              "      <th>4</th>\n",
              "      <td>5.0</td>\n",
              "      <td>3.6</td>\n",
              "      <td>1.4</td>\n",
              "      <td>0.2</td>\n",
              "      <td>Iris-setosa</td>\n",
              "    </tr>\n",
              "    <tr>\n",
              "      <th>...</th>\n",
              "      <td>...</td>\n",
              "      <td>...</td>\n",
              "      <td>...</td>\n",
              "      <td>...</td>\n",
              "      <td>...</td>\n",
              "    </tr>\n",
              "    <tr>\n",
              "      <th>145</th>\n",
              "      <td>6.7</td>\n",
              "      <td>3.0</td>\n",
              "      <td>5.2</td>\n",
              "      <td>2.3</td>\n",
              "      <td>Iris-virginica</td>\n",
              "    </tr>\n",
              "    <tr>\n",
              "      <th>146</th>\n",
              "      <td>6.3</td>\n",
              "      <td>2.5</td>\n",
              "      <td>5.0</td>\n",
              "      <td>1.9</td>\n",
              "      <td>Iris-virginica</td>\n",
              "    </tr>\n",
              "    <tr>\n",
              "      <th>147</th>\n",
              "      <td>6.5</td>\n",
              "      <td>3.0</td>\n",
              "      <td>5.2</td>\n",
              "      <td>2.0</td>\n",
              "      <td>Iris-virginica</td>\n",
              "    </tr>\n",
              "    <tr>\n",
              "      <th>148</th>\n",
              "      <td>6.2</td>\n",
              "      <td>3.4</td>\n",
              "      <td>5.4</td>\n",
              "      <td>2.3</td>\n",
              "      <td>Iris-virginica</td>\n",
              "    </tr>\n",
              "    <tr>\n",
              "      <th>149</th>\n",
              "      <td>5.9</td>\n",
              "      <td>3.0</td>\n",
              "      <td>5.1</td>\n",
              "      <td>1.8</td>\n",
              "      <td>Iris-virginica</td>\n",
              "    </tr>\n",
              "  </tbody>\n",
              "</table>\n",
              "<p>150 rows × 5 columns</p>\n",
              "</div>\n",
              "      <button class=\"colab-df-convert\" onclick=\"convertToInteractive('df-4d714dd3-2c20-4f80-9d91-5fd610b9cbb3')\"\n",
              "              title=\"Convert this dataframe to an interactive table.\"\n",
              "              style=\"display:none;\">\n",
              "        \n",
              "  <svg xmlns=\"http://www.w3.org/2000/svg\" height=\"24px\"viewBox=\"0 0 24 24\"\n",
              "       width=\"24px\">\n",
              "    <path d=\"M0 0h24v24H0V0z\" fill=\"none\"/>\n",
              "    <path d=\"M18.56 5.44l.94 2.06.94-2.06 2.06-.94-2.06-.94-.94-2.06-.94 2.06-2.06.94zm-11 1L8.5 8.5l.94-2.06 2.06-.94-2.06-.94L8.5 2.5l-.94 2.06-2.06.94zm10 10l.94 2.06.94-2.06 2.06-.94-2.06-.94-.94-2.06-.94 2.06-2.06.94z\"/><path d=\"M17.41 7.96l-1.37-1.37c-.4-.4-.92-.59-1.43-.59-.52 0-1.04.2-1.43.59L10.3 9.45l-7.72 7.72c-.78.78-.78 2.05 0 2.83L4 21.41c.39.39.9.59 1.41.59.51 0 1.02-.2 1.41-.59l7.78-7.78 2.81-2.81c.8-.78.8-2.07 0-2.86zM5.41 20L4 18.59l7.72-7.72 1.47 1.35L5.41 20z\"/>\n",
              "  </svg>\n",
              "      </button>\n",
              "      \n",
              "  <style>\n",
              "    .colab-df-container {\n",
              "      display:flex;\n",
              "      flex-wrap:wrap;\n",
              "      gap: 12px;\n",
              "    }\n",
              "\n",
              "    .colab-df-convert {\n",
              "      background-color: #E8F0FE;\n",
              "      border: none;\n",
              "      border-radius: 50%;\n",
              "      cursor: pointer;\n",
              "      display: none;\n",
              "      fill: #1967D2;\n",
              "      height: 32px;\n",
              "      padding: 0 0 0 0;\n",
              "      width: 32px;\n",
              "    }\n",
              "\n",
              "    .colab-df-convert:hover {\n",
              "      background-color: #E2EBFA;\n",
              "      box-shadow: 0px 1px 2px rgba(60, 64, 67, 0.3), 0px 1px 3px 1px rgba(60, 64, 67, 0.15);\n",
              "      fill: #174EA6;\n",
              "    }\n",
              "\n",
              "    [theme=dark] .colab-df-convert {\n",
              "      background-color: #3B4455;\n",
              "      fill: #D2E3FC;\n",
              "    }\n",
              "\n",
              "    [theme=dark] .colab-df-convert:hover {\n",
              "      background-color: #434B5C;\n",
              "      box-shadow: 0px 1px 3px 1px rgba(0, 0, 0, 0.15);\n",
              "      filter: drop-shadow(0px 1px 2px rgba(0, 0, 0, 0.3));\n",
              "      fill: #FFFFFF;\n",
              "    }\n",
              "  </style>\n",
              "\n",
              "      <script>\n",
              "        const buttonEl =\n",
              "          document.querySelector('#df-4d714dd3-2c20-4f80-9d91-5fd610b9cbb3 button.colab-df-convert');\n",
              "        buttonEl.style.display =\n",
              "          google.colab.kernel.accessAllowed ? 'block' : 'none';\n",
              "\n",
              "        async function convertToInteractive(key) {\n",
              "          const element = document.querySelector('#df-4d714dd3-2c20-4f80-9d91-5fd610b9cbb3');\n",
              "          const dataTable =\n",
              "            await google.colab.kernel.invokeFunction('convertToInteractive',\n",
              "                                                     [key], {});\n",
              "          if (!dataTable) return;\n",
              "\n",
              "          const docLinkHtml = 'Like what you see? Visit the ' +\n",
              "            '<a target=\"_blank\" href=https://colab.research.google.com/notebooks/data_table.ipynb>data table notebook</a>'\n",
              "            + ' to learn more about interactive tables.';\n",
              "          element.innerHTML = '';\n",
              "          dataTable['output_type'] = 'display_data';\n",
              "          await google.colab.output.renderOutput(dataTable, element);\n",
              "          const docLink = document.createElement('div');\n",
              "          docLink.innerHTML = docLinkHtml;\n",
              "          element.appendChild(docLink);\n",
              "        }\n",
              "      </script>\n",
              "    </div>\n",
              "  </div>\n",
              "  "
            ]
          },
          "metadata": {},
          "execution_count": 4
        }
      ]
    },
    {
      "cell_type": "markdown",
      "source": [
        "# 2. Data exploration  \n",
        "Data can be explored with descriptive statistic methods. Also, data visualization is also useful, so a clearer insight into things that might be miss from the numerical results is gotten.  \n",
        "For numerical explorations I will use functions available in the pandas liibrary, and I will visualize my data using matplolib functions combined with ones from pandas and numpy.   \n",
        "This step in the pipeline is necessary to determine which further steps (if any) are needed to preprocess the data, so it's best suited as input for the ML models which will be used. "
      ],
      "metadata": {
        "id": "moP8PTmN0tmz"
      }
    },
    {
      "cell_type": "markdown",
      "source": [
        "**Numerical explorations:**"
      ],
      "metadata": {
        "id": "NP5Mu1-kvsRC"
      }
    },
    {
      "cell_type": "markdown",
      "source": [
        "\n",
        "\n",
        "\n",
        "\n",
        "*   Using the shape atribute of the data frame containing the data set to see how many examples it contains.  \n",
        "*   Checking if classes are uniformly distributed in the data set. This is done by using the groupby() method on the dataset which returns a grouby object, and I print out its size.\n",
        "*   Exploring basic statistical data using the describe() function. \n",
        "*   Determining the presence of correlation among attributes. This can be done using the corr() function on the data frame. I will specify the method parameter to 'pearson' so the correlations I get as output will be Pearson correlations.\n",
        "\n",
        "\n"
      ],
      "metadata": {
        "id": "EL-ssD2gD6DT"
      }
    },
    {
      "cell_type": "code",
      "source": [
        "#checking the shape\n",
        "print(\"Shape of the data frame:\", dataSet.shape)\n",
        "\n",
        "#checking class distribution\n",
        "countClasses=dataSet.groupby('class')\n",
        "print(\"\\nClass distribution:\\n\\n\",countClasses.size())\n",
        "\n",
        "#getting descriptive statistics\n",
        "description = dataSet.describe()\n",
        "print(\"\\nDescriptive statistics:\\n\\n\",description)\n",
        "\n",
        "#checking for correlation\n",
        "correlation=dataSet.corr(method='pearson')\n",
        "print(\"\\nPearson correlation results:\\n\\n\",correlation)"
      ],
      "metadata": {
        "colab": {
          "base_uri": "https://localhost:8080/"
        },
        "id": "zwA-TV6WLNjd",
        "outputId": "53a29d9f-7f14-4236-d39c-bc82e1d289e3"
      },
      "execution_count": null,
      "outputs": [
        {
          "output_type": "stream",
          "name": "stdout",
          "text": [
            "Shape of the data frame: (150, 5)\n",
            "\n",
            "Class distribution:\n",
            "\n",
            " class\n",
            "Iris-setosa        50\n",
            "Iris-versicolor    50\n",
            "Iris-virginica     50\n",
            "dtype: int64\n",
            "\n",
            "Descriptive statistics:\n",
            "\n",
            "         sepal-len   sepal-wid   petal-len   petal-wid\n",
            "count  150.000000  150.000000  150.000000  150.000000\n",
            "mean     5.843333    3.057333    3.758000    1.199333\n",
            "std      0.828066    0.435866    1.765298    0.762238\n",
            "min      4.300000    2.000000    1.000000    0.100000\n",
            "25%      5.100000    2.800000    1.600000    0.300000\n",
            "50%      5.800000    3.000000    4.350000    1.300000\n",
            "75%      6.400000    3.300000    5.100000    1.800000\n",
            "max      7.900000    4.400000    6.900000    2.500000\n",
            "\n",
            "Pearson correlation results:\n",
            "\n",
            "            sepal-len  sepal-wid  petal-len  petal-wid\n",
            "sepal-len   1.000000  -0.117570   0.871754   0.817941\n",
            "sepal-wid  -0.117570   1.000000  -0.428440  -0.366126\n",
            "petal-len   0.871754  -0.428440   1.000000   0.962865\n",
            "petal-wid   0.817941  -0.366126   0.962865   1.000000\n"
          ]
        }
      ]
    },
    {
      "cell_type": "markdown",
      "source": [
        "I determine that each class is represented by the same number of examples in my data set.  \n",
        "There is no missing values in this data set. Also, I notice that my features are in different ranges, so learning algorithms could perheps benefit from rescaling the features. This will be attempted in the next step of the pipeline.  \n",
        "Furthermore, some attributes seem to be very highly correlated with eachother. I will decide later, after I apply the methods to do feature selection whether I will retain them or not. Of the top of my head, I would say that it's not a smart choice to discard them since the data set has a small number of features as it is, and each attribute has a strong biological importance for determining the species of flower.\n"
      ],
      "metadata": {
        "id": "O6ZdFdDHrXzB"
      }
    },
    {
      "cell_type": "markdown",
      "source": [
        "**Visualizing my data:**"
      ],
      "metadata": {
        "id": "5TZRoJWKv0tI"
      }
    },
    {
      "cell_type": "markdown",
      "source": [
        "*   Univariate plots: I will create density and box plots for each of the attributes in the data set. The density plot will show the overall trends in each feature, and box plots will give light to outliers if they are present.\n",
        "*   Multivariate plots: These plots will show how the features in the data set interract with eacother. I will create a heat map and a scatter plot. \n",
        "\n",
        "\n"
      ],
      "metadata": {
        "id": "Io4PngRJv3O_"
      }
    },
    {
      "cell_type": "code",
      "source": [
        "from matplotlib import pyplot\n",
        "import numpy as np"
      ],
      "metadata": {
        "id": "t_dG4gyMxvlZ"
      },
      "execution_count": null,
      "outputs": []
    },
    {
      "cell_type": "code",
      "source": [
        "#Creating density plots\n",
        "pyplot.rcParams[\"figure.figsize\"] = [10,10]  #I customize the size of figures in pyplot by changing the rcParams object\n",
        "dataSet.plot(kind='density', subplots=True, layout=(2,2), sharex=False)  #plot() is a pandas function that makes plots out of a data frame \n",
        "pyplot.show()"
      ],
      "metadata": {
        "colab": {
          "base_uri": "https://localhost:8080/",
          "height": 592
        },
        "id": "yIYy3smNyeK9",
        "outputId": "e323cbb8-b532-4a3b-afbf-8fb4be1ecdc1"
      },
      "execution_count": null,
      "outputs": [
        {
          "output_type": "display_data",
          "data": {
            "text/plain": [
              "<Figure size 720x720 with 4 Axes>"
            ],
            "image/png": "[encoded data removed]"
          },
          "metadata": {
            "needs_background": "light"
          }
        }
      ]
    },
    {
      "cell_type": "markdown",
      "source": [
        "Sepal length and width roughly follow the Gaussian distribution, although the sepal width distribution is pretty narrow. Trends in both dimensions of petals indicate there might be two groups in the data. "
      ],
      "metadata": {
        "id": "A6zMEdc4N4Aw"
      }
    },
    {
      "cell_type": "code",
      "source": [
        "#Creating box plots\n",
        "dataSet.plot(kind='box', subplots=True, layout=(2,2), sharex=False, sharey=False)\n",
        "pyplot.show()"
      ],
      "metadata": {
        "colab": {
          "base_uri": "https://localhost:8080/",
          "height": 594
        },
        "id": "Rsgh3nvYEpLF",
        "outputId": "63b152ed-407e-4e5a-c66b-04334829f0b9"
      },
      "execution_count": null,
      "outputs": [
        {
          "output_type": "display_data",
          "data": {
            "text/plain": [
              "<Figure size 720x720 with 4 Axes>"
            ],
            "image/png": "[encoded data removed]"
          },
          "metadata": {
            "needs_background": "light"
          }
        }
      ]
    },
    {
      "cell_type": "markdown",
      "source": [
        "Thre are outliers only in the sepal width feature."
      ],
      "metadata": {
        "id": "sh-2DKuBNx6a"
      }
    },
    {
      "cell_type": "code",
      "source": [
        "#Creating a heat map\n",
        "figure=pyplot.figure()                          #creating a new figure\n",
        "axes=figure.add_subplot(111)                    #adding an axes to the figure with default parameters\n",
        "cax=axes.matshow(correlation, vmin=-1, vmax=1)  #displays the correlation matrix created in previous steps; vmin and vmax determine the range of values\n",
        "\n",
        "#formatting the plot\n",
        "figure.colorbar(cax)\n",
        "ticks=np.arange(0,4,1)\n",
        "axes.set_xticks(ticks)\n",
        "axes.set_yticks(ticks)\n",
        "axes.set_xticklabels(names)\n",
        "axes.set_yticklabels(names)\n",
        "pyplot.show()"
      ],
      "metadata": {
        "colab": {
          "base_uri": "https://localhost:8080/",
          "height": 584
        },
        "id": "h7ZUnJY9N5rU",
        "outputId": "2e234796-7bdf-4cfb-c615-e5268af6f36c"
      },
      "execution_count": null,
      "outputs": [
        {
          "output_type": "display_data",
          "data": {
            "text/plain": [
              "<Figure size 720x720 with 2 Axes>"
            ],
            "image/png": "[encoded data removed]"
          },
          "metadata": {
            "needs_background": "light"
          }
        }
      ]
    },
    {
      "cell_type": "markdown",
      "source": [
        "This heat map makes the correlation I noticed in the numerical analysis of the data very obvious. "
      ],
      "metadata": {
        "id": "O3pn96itPXN4"
      }
    },
    {
      "cell_type": "code",
      "source": [
        "from pandas.plotting import scatter_matrix\n",
        "scatter_matrix(dataSet)   #creates a matrix of scatter plots for variables from the data frame given as input\n",
        "pyplot.show()"
      ],
      "metadata": {
        "colab": {
          "base_uri": "https://localhost:8080/",
          "height": 601
        },
        "id": "zB4z5YZFRrGd",
        "outputId": "abc95abe-b216-4111-ad0a-0504b62c2c6b"
      },
      "execution_count": null,
      "outputs": [
        {
          "output_type": "display_data",
          "data": {
            "text/plain": [
              "<Figure size 720x720 with 16 Axes>"
            ],
            "image/png": "[encoded data removed]"
          },
          "metadata": {
            "needs_background": "light"
          }
        }
      ]
    },
    {
      "cell_type": "markdown",
      "source": [
        "Again, the positive correlation between petal width and length is noticable. Also, petal width and sepal length show a correlation, but a part of the data of these two features seems independent."
      ],
      "metadata": {
        "id": "Oa8pTHy2Tf5F"
      }
    },
    {
      "cell_type": "markdown",
      "source": [
        "# 3. Data preparation  \n",
        "Data prep can be done using the scikit-learn library. The purpose of data prep is to process your data in such a way that the information it carries becomes more easily recognazible to the machine learning algorithm. Generally, four main steps can be done during data prep:\n",
        "*   Rescaling the data: goal is to get the same scale for all possible features\n",
        "*   Standardizing the data: done to transform all features a Gausian distribution with mean=0 and SD=1.\n",
        "*   Normalizing the data: idea is to go to a unit norm, i.e., to a vector of lenght 1.\n",
        "*   Binarizing the data: binary data which was not binary before according to some threshold. Above threshold assign 1, below theshold assign 0.   \n",
        "\n",
        "However, not all four steps are included in the pipeline of training a ML model for each data set. \n"
      ],
      "metadata": {
        "id": "kmmLcpJGUaMQ"
      }
    },
    {
      "cell_type": "markdown",
      "source": [
        "Before doing any transformations I need to separate my data set in two vectors - the feature vector X and classes vector Y."
      ],
      "metadata": {
        "id": "90B_l0kSc7PM"
      }
    },
    {
      "cell_type": "code",
      "source": [
        "onlyValues=dataSet.values #this will create a variable containing only the values of the data frame\n",
        "X=onlyValues[:,0:4]\n",
        "Y=onlyValues[:,4]"
      ],
      "metadata": {
        "id": "Xf7cZrCEdELs"
      },
      "execution_count": null,
      "outputs": []
    },
    {
      "cell_type": "code",
      "source": [
        "print(\"Feature vector:\\n\",X[0:10,:])\n",
        "print(\"\\n---------------------\\n\")\n",
        "print(\"Classes vector:\\n\",Y[0:10])"
      ],
      "metadata": {
        "colab": {
          "base_uri": "https://localhost:8080/"
        },
        "id": "Y-MZBe2XdhW8",
        "outputId": "91753115-a0cc-4c34-c179-68a2806dbb5a"
      },
      "execution_count": null,
      "outputs": [
        {
          "output_type": "stream",
          "name": "stdout",
          "text": [
            "Feature vector:\n",
            " [[5.1 3.5 1.4 0.2]\n",
            " [4.9 3.0 1.4 0.2]\n",
            " [4.7 3.2 1.3 0.2]\n",
            " [4.6 3.1 1.5 0.2]\n",
            " [5.0 3.6 1.4 0.2]\n",
            " [5.4 3.9 1.7 0.4]\n",
            " [4.6 3.4 1.4 0.3]\n",
            " [5.0 3.4 1.5 0.2]\n",
            " [4.4 2.9 1.4 0.2]\n",
            " [4.9 3.1 1.5 0.1]]\n",
            "\n",
            "---------------------\n",
            "\n",
            "Classes vector:\n",
            " ['Iris-setosa' 'Iris-setosa' 'Iris-setosa' 'Iris-setosa' 'Iris-setosa'\n",
            " 'Iris-setosa' 'Iris-setosa' 'Iris-setosa' 'Iris-setosa' 'Iris-setosa']\n"
          ]
        }
      ]
    },
    {
      "cell_type": "code",
      "source": [
        "#Importing functions needed for data prep from scikit-learn.\n",
        "from sklearn.preprocessing import MinMaxScaler\n",
        "from sklearn.preprocessing import StandardScaler\n",
        "from sklearn.preprocessing import Normalizer\n",
        "from sklearn.preprocessing import Binarizer"
      ],
      "metadata": {
        "id": "jzpjGjZnb8Fc"
      },
      "execution_count": null,
      "outputs": []
    },
    {
      "cell_type": "code",
      "source": [
        "#Rescaling data so they all have values in range [0,1]\n",
        "scaler=MinMaxScaler(feature_range=(0, 1))\n",
        "prepedX=scaler.fit_transform(X)\n",
        "\n",
        "#Standardizing data \n",
        "#stand=StandardScaler(with_std=False)\n",
        "#standardizedX=stand.fit_transform(X)\n",
        "\n",
        "#Normalize data\n",
        "#norm=Normalizer()\n",
        "#prepedX=norm.fit_transform(standardizedX)\n",
        "\n",
        "#Binarization\n",
        "#binarizer=Binarizer(threshold=0.0)\n",
        "#prepedX=binarizer.fit_transform()\n",
        "\n",
        "print(prepedX[0:15,:])"
      ],
      "metadata": {
        "colab": {
          "base_uri": "https://localhost:8080/"
        },
        "id": "VGPMiZjzccEB",
        "outputId": "8eddb5a0-a48e-4fef-a670-c9f713249ca0"
      },
      "execution_count": null,
      "outputs": [
        {
          "output_type": "stream",
          "name": "stdout",
          "text": [
            "[[0.22222222 0.625      0.06779661 0.04166667]\n",
            " [0.16666667 0.41666667 0.06779661 0.04166667]\n",
            " [0.11111111 0.5        0.05084746 0.04166667]\n",
            " [0.08333333 0.45833333 0.08474576 0.04166667]\n",
            " [0.19444444 0.66666667 0.06779661 0.04166667]\n",
            " [0.30555556 0.79166667 0.11864407 0.125     ]\n",
            " [0.08333333 0.58333333 0.06779661 0.08333333]\n",
            " [0.19444444 0.58333333 0.08474576 0.04166667]\n",
            " [0.02777778 0.375      0.06779661 0.04166667]\n",
            " [0.16666667 0.45833333 0.08474576 0.        ]\n",
            " [0.30555556 0.70833333 0.08474576 0.04166667]\n",
            " [0.13888889 0.58333333 0.10169492 0.04166667]\n",
            " [0.13888889 0.41666667 0.06779661 0.        ]\n",
            " [0.         0.41666667 0.01694915 0.        ]\n",
            " [0.41666667 0.83333333 0.03389831 0.04166667]]\n"
          ]
        }
      ]
    },
    {
      "cell_type": "markdown",
      "source": [
        "I chose just to rescale the data because this transforms my data into suitable input for the algorithms I will apply later.  \n",
        "I omitted binarization since the concept of my data is very simple, and doesn't really need binarization (like images as data for example). I have empirically proven standardization and normalization to be a bad approach to processing my data, since when training models with data processed in this way I got poor results. "
      ],
      "metadata": {
        "id": "EqylgjSif47D"
      }
    },
    {
      "cell_type": "markdown",
      "source": [
        "Now I will repeat some of the plots I previously made to see how my data is behaving now. "
      ],
      "metadata": {
        "id": "Wq4-0NBFlMu_"
      }
    },
    {
      "cell_type": "code",
      "source": [
        "prepedDatafr=pd.DataFrame(prepedX, columns=names[:-1])  #convertin the numpy array back into a pandas data frame for plotting\n",
        "#Creating box plots\n",
        "prepedDatafr.plot(kind='box', subplots=True, layout=(2,2), sharex=False, sharey=False)\n",
        "pyplot.show()"
      ],
      "metadata": {
        "colab": {
          "base_uri": "https://localhost:8080/",
          "height": 592
        },
        "id": "y1zNIqX0lSmo",
        "outputId": "a2e8de25-6f11-476f-99f2-d2334f08bcfe"
      },
      "execution_count": null,
      "outputs": [
        {
          "output_type": "display_data",
          "data": {
            "text/plain": [
              "<Figure size 720x720 with 4 Axes>"
            ],
            "image/png": "[encoded data removed]"
          },
          "metadata": {
            "needs_background": "light"
          }
        }
      ]
    },
    {
      "cell_type": "markdown",
      "source": [
        "Outliers have remained, and the distributions stayed the same. This is expected because rescaling doesn't change the distribution of the data. "
      ],
      "metadata": {
        "id": "kiJPbyDBm1bj"
      }
    },
    {
      "cell_type": "code",
      "source": [
        "#Creating scatter plots\n",
        "scatter_matrix(prepedDatafr)\n",
        "pyplot.show()"
      ],
      "metadata": {
        "colab": {
          "base_uri": "https://localhost:8080/",
          "height": 608
        },
        "id": "y6p0xTbdmlFs",
        "outputId": "9b177486-1f07-4090-ec68-2aed9ea83896"
      },
      "execution_count": null,
      "outputs": [
        {
          "output_type": "display_data",
          "data": {
            "text/plain": [
              "<Figure size 720x720 with 16 Axes>"
            ],
            "image/png": "[encoded data removed]"
          },
          "metadata": {
            "needs_background": "light"
          }
        }
      ]
    },
    {
      "cell_type": "markdown",
      "source": [
        "Correlation patterns between attributes representing petal dimensions persist."
      ],
      "metadata": {
        "id": "zVWDRJ0GhM7x"
      }
    },
    {
      "cell_type": "markdown",
      "source": [
        "# 4. Feature selection  \n",
        "This step results in a selection of features which will be given to the learning algorithm. Feature selection is done to avoid overfitting, to improve accuracy and to reduce training time. It's based on performing different operations on your features that will point out the most important ones. Combining this knowledge with the things discovered durng data exploration will point out which features to select.  \n",
        "Feature selection is a very important step of a machine learning pipeline. I will use some methods of assesing which features are most important, and rank them according to that. Later I will try to train the models with different combination of features and see what gives the best performance.  \n",
        "Techiniques I will apply:  \n",
        "*   Univariate selection - based on statistical tests\n",
        "*   Recursive feature elimination - this techique is model specific. \n",
        "\n"
      ],
      "metadata": {
        "id": "jS710WF9pOjK"
      }
    },
    {
      "cell_type": "code",
      "source": [
        "from numpy import set_printoptions\n",
        "from sklearn.feature_selection import SelectKBest\n",
        "from sklearn.feature_selection import chi2"
      ],
      "metadata": {
        "id": "wcuithVGtrQA"
      },
      "execution_count": null,
      "outputs": []
    },
    {
      "cell_type": "code",
      "source": [
        "#Univariate selection: apply chi2 test to select the best k=2\n",
        "test=SelectKBest(chi2, k=2)  \n",
        "fit = test.fit(X, Y)\n",
        "set_printoptions(precision=3)\n",
        "print(fit.scores_)\n",
        "print(names[:-1])"
      ],
      "metadata": {
        "colab": {
          "base_uri": "https://localhost:8080/"
        },
        "id": "hMu6E0rR2U2Q",
        "outputId": "abef3a02-3654-4a49-de6d-ffb828894fef"
      },
      "execution_count": null,
      "outputs": [
        {
          "output_type": "stream",
          "name": "stdout",
          "text": [
            "[ 10.818   3.711 116.313  67.048]\n",
            "['sepal-len', 'sepal-wid', 'petal-len', 'petal-wid']\n"
          ]
        }
      ]
    },
    {
      "cell_type": "markdown",
      "source": [
        "According to the chi2 test, the most important features (statistically) are petal dimensions. Sepal dimensions seem much less important."
      ],
      "metadata": {
        "id": "2i-Zecs73LNq"
      }
    },
    {
      "cell_type": "code",
      "source": [
        "#Importing all the models I will use and the RFE class\n",
        "from sklearn.feature_selection import RFE\n",
        "from sklearn.linear_model import LogisticRegression\n",
        "from sklearn.tree import DecisionTreeClassifier\n",
        "from sklearn.linear_model import RidgeClassifier\n",
        "from sklearn.ensemble import RandomForestClassifier\n",
        "from sklearn.svm import LinearSVC\n",
        "from sklearn.neighbors import NearestCentroid #RFE can't be used for it because it makes use of all features"
      ],
      "metadata": {
        "id": "gzNf5CrR3Jpw"
      },
      "execution_count": null,
      "outputs": []
    },
    {
      "cell_type": "code",
      "source": [
        "#Creating a list of tuples of models and their names\n",
        "models=[]\n",
        "models.append(('Logistic regression', LogisticRegression(solver='lbfgs', max_iter=5000, multi_class='multinomial')))\n",
        "models.append(('Decision tree', DecisionTreeClassifier()))\n",
        "models.append(('Ridge', RidgeClassifier(max_iter=5000)))\n",
        "models.append(('Random forest', RandomForestClassifier()))\n",
        "models.append(('Linear SVC', LinearSVC(multi_class='ovr')))\n"
      ],
      "metadata": {
        "id": "S3qp6Yg480Om"
      },
      "execution_count": null,
      "outputs": []
    },
    {
      "cell_type": "code",
      "source": [
        "#Doing Recursive feature elimination for each of the models\n",
        "for name, model in models:\n",
        "  recFeatElim=RFE(model)\n",
        "  fit=recFeatElim.fit(prepedDatafr,Y) #since I'm actually fitting the model here, I will use the preprocessed features\n",
        "  print(name)\n",
        "  print(\"Number of features: %d\" % fit.n_features_)\n",
        "  print(\"Selected features: %s\" % fit.support_)\n",
        "  print(\"Ranks: %s\" % fit.ranking_)\n",
        "  print(\"\\n\")\n",
        "print(names[:-1])"
      ],
      "metadata": {
        "colab": {
          "base_uri": "https://localhost:8080/"
        },
        "id": "sxy78zIsBAXl",
        "outputId": "2706a033-9db2-4938-e6a9-adb2d02b8fb4"
      },
      "execution_count": null,
      "outputs": [
        {
          "output_type": "stream",
          "name": "stdout",
          "text": [
            "Logistic regression\n",
            "Number of features: 2\n",
            "Selected features: [False False  True  True]\n",
            "Ranks: [3 2 1 1]\n",
            "\n",
            "\n",
            "Decision tree\n",
            "Number of features: 2\n",
            "Selected features: [False False  True  True]\n",
            "Ranks: [2 3 1 1]\n",
            "\n",
            "\n",
            "Ridge\n",
            "Number of features: 2\n",
            "Selected features: [False  True False  True]\n",
            "Ranks: [3 1 2 1]\n",
            "\n",
            "\n",
            "Random forest\n",
            "Number of features: 2\n",
            "Selected features: [False False  True  True]\n",
            "Ranks: [2 3 1 1]\n",
            "\n",
            "\n",
            "Linear SVC\n",
            "Number of features: 2\n",
            "Selected features: [False False  True  True]\n",
            "Ranks: [3 2 1 1]\n",
            "\n",
            "\n",
            "['sepal-len', 'sepal-wid', 'petal-len', 'petal-wid']\n"
          ]
        }
      ]
    },
    {
      "cell_type": "markdown",
      "source": [
        "In most of the models, again petal dimensions are confirmed to be the most important features.  \n",
        "So, in further steps I will take two approaches in training my models - using all 4 features and only using petal dimensions. I will see which approach gives better performance. "
      ],
      "metadata": {
        "id": "gjJfEYUcPOXA"
      }
    },
    {
      "cell_type": "markdown",
      "source": [
        "# 5. Estimating and comparing performance of ML algorithms on iris data set  \n",
        "Model performance will be estimated in two ways. First all models will be evaluated by resampling using the k-fold cross-validation, and accuracy will be calculated as a performance metric. Then a confusion matrix for each model will be generated based on spliting the data set into a training and testing part. Based on the results of these two procedures, the best performing model will be selected and in the next step parameter tuning will be performed on it. "
      ],
      "metadata": {
        "id": "6wLjrFMUh_CV"
      }
    },
    {
      "cell_type": "code",
      "source": [
        "#Importing classes required for evaluating models\n",
        "from sklearn.model_selection import KFold\n",
        "from sklearn.model_selection import cross_val_score\n",
        "from sklearn.metrics import classification_report "
      ],
      "metadata": {
        "id": "sl2W5CnqiK6Q"
      },
      "execution_count": null,
      "outputs": []
    },
    {
      "cell_type": "code",
      "source": [
        "models=[]\n",
        "models.append(('Logistic regression', LogisticRegression(solver='lbfgs', max_iter=5000, multi_class='multinomial')))\n",
        "models.append(('Decision tree', DecisionTreeClassifier()))\n",
        "models.append(('Ridge', RidgeClassifier(max_iter=5000)))\n",
        "models.append(('Random forest', RandomForestClassifier()))\n",
        "models.append(('Linear SVC', LinearSVC(multi_class='ovr', max_iter=7000)))\n",
        "models.append(('Nearest centroid', NearestCentroid()))"
      ],
      "metadata": {
        "id": "P1mlPny4sbct"
      },
      "execution_count": null,
      "outputs": []
    },
    {
      "cell_type": "code",
      "source": [
        "#creating a data frame with just petal dimensions features\n",
        "selFeat = prepedDatafr.iloc[:,2:]\n",
        "selFeat"
      ],
      "metadata": {
        "colab": {
          "base_uri": "https://localhost:8080/",
          "height": 424
        },
        "id": "aY61D5pKu2dJ",
        "outputId": "61f736e8-ad22-4a60-b267-2a3cef2d238b"
      },
      "execution_count": null,
      "outputs": [
        {
          "output_type": "execute_result",
          "data": {
            "text/plain": [
              "     petal-len  petal-wid\n",
              "0     0.067797   0.041667\n",
              "1     0.067797   0.041667\n",
              "2     0.050847   0.041667\n",
              "3     0.084746   0.041667\n",
              "4     0.067797   0.041667\n",
              "..         ...        ...\n",
              "145   0.711864   0.916667\n",
              "146   0.677966   0.750000\n",
              "147   0.711864   0.791667\n",
              "148   0.745763   0.916667\n",
              "149   0.694915   0.708333\n",
              "\n",
              "[150 rows x 2 columns]"
            ],
            "text/html": [
              "\n",
              "  <div id=\"df-50ec6bd8-f548-4b21-b53d-1412e914e2e8\">\n",
              "    <div class=\"colab-df-container\">\n",
              "      <div>\n",
              "<style scoped>\n",
              "    .dataframe tbody tr th:only-of-type {\n",
              "        vertical-align: middle;\n",
              "    }\n",
              "\n",
              "    .dataframe tbody tr th {\n",
              "        vertical-align: top;\n",
              "    }\n",
              "\n",
              "    .dataframe thead th {\n",
              "        text-align: right;\n",
              "    }\n",
              "</style>\n",
              "<table border=\"1\" class=\"dataframe\">\n",
              "  <thead>\n",
              "    <tr style=\"text-align: right;\">\n",
              "      <th></th>\n",
              "      <th>petal-len</th>\n",
              "      <th>petal-wid</th>\n",
              "    </tr>\n",
              "  </thead>\n",
              "  <tbody>\n",
              "    <tr>\n",
              "      <th>0</th>\n",
              "      <td>0.067797</td>\n",
              "      <td>0.041667</td>\n",
              "    </tr>\n",
              "    <tr>\n",
              "      <th>1</th>\n",
              "      <td>0.067797</td>\n",
              "      <td>0.041667</td>\n",
              "    </tr>\n",
              "    <tr>\n",
              "      <th>2</th>\n",
              "      <td>0.050847</td>\n",
              "      <td>0.041667</td>\n",
              "    </tr>\n",
              "    <tr>\n",
              "      <th>3</th>\n",
              "      <td>0.084746</td>\n",
              "      <td>0.041667</td>\n",
              "    </tr>\n",
              "    <tr>\n",
              "      <th>4</th>\n",
              "      <td>0.067797</td>\n",
              "      <td>0.041667</td>\n",
              "    </tr>\n",
              "    <tr>\n",
              "      <th>...</th>\n",
              "      <td>...</td>\n",
              "      <td>...</td>\n",
              "    </tr>\n",
              "    <tr>\n",
              "      <th>145</th>\n",
              "      <td>0.711864</td>\n",
              "      <td>0.916667</td>\n",
              "    </tr>\n",
              "    <tr>\n",
              "      <th>146</th>\n",
              "      <td>0.677966</td>\n",
              "      <td>0.750000</td>\n",
              "    </tr>\n",
              "    <tr>\n",
              "      <th>147</th>\n",
              "      <td>0.711864</td>\n",
              "      <td>0.791667</td>\n",
              "    </tr>\n",
              "    <tr>\n",
              "      <th>148</th>\n",
              "      <td>0.745763</td>\n",
              "      <td>0.916667</td>\n",
              "    </tr>\n",
              "    <tr>\n",
              "      <th>149</th>\n",
              "      <td>0.694915</td>\n",
              "      <td>0.708333</td>\n",
              "    </tr>\n",
              "  </tbody>\n",
              "</table>\n",
              "<p>150 rows × 2 columns</p>\n",
              "</div>\n",
              "      <button class=\"colab-df-convert\" onclick=\"convertToInteractive('df-50ec6bd8-f548-4b21-b53d-1412e914e2e8')\"\n",
              "              title=\"Convert this dataframe to an interactive table.\"\n",
              "              style=\"display:none;\">\n",
              "        \n",
              "  <svg xmlns=\"http://www.w3.org/2000/svg\" height=\"24px\"viewBox=\"0 0 24 24\"\n",
              "       width=\"24px\">\n",
              "    <path d=\"M0 0h24v24H0V0z\" fill=\"none\"/>\n",
              "    <path d=\"M18.56 5.44l.94 2.06.94-2.06 2.06-.94-2.06-.94-.94-2.06-.94 2.06-2.06.94zm-11 1L8.5 8.5l.94-2.06 2.06-.94-2.06-.94L8.5 2.5l-.94 2.06-2.06.94zm10 10l.94 2.06.94-2.06 2.06-.94-2.06-.94-.94-2.06-.94 2.06-2.06.94z\"/><path d=\"M17.41 7.96l-1.37-1.37c-.4-.4-.92-.59-1.43-.59-.52 0-1.04.2-1.43.59L10.3 9.45l-7.72 7.72c-.78.78-.78 2.05 0 2.83L4 21.41c.39.39.9.59 1.41.59.51 0 1.02-.2 1.41-.59l7.78-7.78 2.81-2.81c.8-.78.8-2.07 0-2.86zM5.41 20L4 18.59l7.72-7.72 1.47 1.35L5.41 20z\"/>\n",
              "  </svg>\n",
              "      </button>\n",
              "      \n",
              "  <style>\n",
              "    .colab-df-container {\n",
              "      display:flex;\n",
              "      flex-wrap:wrap;\n",
              "      gap: 12px;\n",
              "    }\n",
              "\n",
              "    .colab-df-convert {\n",
              "      background-color: #E8F0FE;\n",
              "      border: none;\n",
              "      border-radius: 50%;\n",
              "      cursor: pointer;\n",
              "      display: none;\n",
              "      fill: #1967D2;\n",
              "      height: 32px;\n",
              "      padding: 0 0 0 0;\n",
              "      width: 32px;\n",
              "    }\n",
              "\n",
              "    .colab-df-convert:hover {\n",
              "      background-color: #E2EBFA;\n",
              "      box-shadow: 0px 1px 2px rgba(60, 64, 67, 0.3), 0px 1px 3px 1px rgba(60, 64, 67, 0.15);\n",
              "      fill: #174EA6;\n",
              "    }\n",
              "\n",
              "    [theme=dark] .colab-df-convert {\n",
              "      background-color: #3B4455;\n",
              "      fill: #D2E3FC;\n",
              "    }\n",
              "\n",
              "    [theme=dark] .colab-df-convert:hover {\n",
              "      background-color: #434B5C;\n",
              "      box-shadow: 0px 1px 3px 1px rgba(0, 0, 0, 0.15);\n",
              "      filter: drop-shadow(0px 1px 2px rgba(0, 0, 0, 0.3));\n",
              "      fill: #FFFFFF;\n",
              "    }\n",
              "  </style>\n",
              "\n",
              "      <script>\n",
              "        const buttonEl =\n",
              "          document.querySelector('#df-50ec6bd8-f548-4b21-b53d-1412e914e2e8 button.colab-df-convert');\n",
              "        buttonEl.style.display =\n",
              "          google.colab.kernel.accessAllowed ? 'block' : 'none';\n",
              "\n",
              "        async function convertToInteractive(key) {\n",
              "          const element = document.querySelector('#df-50ec6bd8-f548-4b21-b53d-1412e914e2e8');\n",
              "          const dataTable =\n",
              "            await google.colab.kernel.invokeFunction('convertToInteractive',\n",
              "                                                     [key], {});\n",
              "          if (!dataTable) return;\n",
              "\n",
              "          const docLinkHtml = 'Like what you see? Visit the ' +\n",
              "            '<a target=\"_blank\" href=https://colab.research.google.com/notebooks/data_table.ipynb>data table notebook</a>'\n",
              "            + ' to learn more about interactive tables.';\n",
              "          element.innerHTML = '';\n",
              "          dataTable['output_type'] = 'display_data';\n",
              "          await google.colab.output.renderOutput(dataTable, element);\n",
              "          const docLink = document.createElement('div');\n",
              "          docLink.innerHTML = docLinkHtml;\n",
              "          element.appendChild(docLink);\n",
              "        }\n",
              "      </script>\n",
              "    </div>\n",
              "  </div>\n",
              "  "
            ]
          },
          "metadata": {},
          "execution_count": 24
        }
      ]
    },
    {
      "cell_type": "code",
      "source": [
        "#creating a data frame with raw values of petal dimensions features\n",
        "rawSelFeat = dataSet.iloc[:,2:4]\n",
        "rawSelFeat"
      ],
      "metadata": {
        "colab": {
          "base_uri": "https://localhost:8080/",
          "height": 424
        },
        "id": "7b7xtiJbzwQd",
        "outputId": "4959ab9b-eaac-4574-9ed7-5274e80b362a"
      },
      "execution_count": null,
      "outputs": [
        {
          "output_type": "execute_result",
          "data": {
            "text/plain": [
              "     petal-len  petal-wid\n",
              "0          1.4        0.2\n",
              "1          1.4        0.2\n",
              "2          1.3        0.2\n",
              "3          1.5        0.2\n",
              "4          1.4        0.2\n",
              "..         ...        ...\n",
              "145        5.2        2.3\n",
              "146        5.0        1.9\n",
              "147        5.2        2.0\n",
              "148        5.4        2.3\n",
              "149        5.1        1.8\n",
              "\n",
              "[150 rows x 2 columns]"
            ],
            "text/html": [
              "\n",
              "  <div id=\"df-8769539a-fd40-4682-b1e2-a474dc4156e6\">\n",
              "    <div class=\"colab-df-container\">\n",
              "      <div>\n",
              "<style scoped>\n",
              "    .dataframe tbody tr th:only-of-type {\n",
              "        vertical-align: middle;\n",
              "    }\n",
              "\n",
              "    .dataframe tbody tr th {\n",
              "        vertical-align: top;\n",
              "    }\n",
              "\n",
              "    .dataframe thead th {\n",
              "        text-align: right;\n",
              "    }\n",
              "</style>\n",
              "<table border=\"1\" class=\"dataframe\">\n",
              "  <thead>\n",
              "    <tr style=\"text-align: right;\">\n",
              "      <th></th>\n",
              "      <th>petal-len</th>\n",
              "      <th>petal-wid</th>\n",
              "    </tr>\n",
              "  </thead>\n",
              "  <tbody>\n",
              "    <tr>\n",
              "      <th>0</th>\n",
              "      <td>1.4</td>\n",
              "      <td>0.2</td>\n",
              "    </tr>\n",
              "    <tr>\n",
              "      <th>1</th>\n",
              "      <td>1.4</td>\n",
              "      <td>0.2</td>\n",
              "    </tr>\n",
              "    <tr>\n",
              "      <th>2</th>\n",
              "      <td>1.3</td>\n",
              "      <td>0.2</td>\n",
              "    </tr>\n",
              "    <tr>\n",
              "      <th>3</th>\n",
              "      <td>1.5</td>\n",
              "      <td>0.2</td>\n",
              "    </tr>\n",
              "    <tr>\n",
              "      <th>4</th>\n",
              "      <td>1.4</td>\n",
              "      <td>0.2</td>\n",
              "    </tr>\n",
              "    <tr>\n",
              "      <th>...</th>\n",
              "      <td>...</td>\n",
              "      <td>...</td>\n",
              "    </tr>\n",
              "    <tr>\n",
              "      <th>145</th>\n",
              "      <td>5.2</td>\n",
              "      <td>2.3</td>\n",
              "    </tr>\n",
              "    <tr>\n",
              "      <th>146</th>\n",
              "      <td>5.0</td>\n",
              "      <td>1.9</td>\n",
              "    </tr>\n",
              "    <tr>\n",
              "      <th>147</th>\n",
              "      <td>5.2</td>\n",
              "      <td>2.0</td>\n",
              "    </tr>\n",
              "    <tr>\n",
              "      <th>148</th>\n",
              "      <td>5.4</td>\n",
              "      <td>2.3</td>\n",
              "    </tr>\n",
              "    <tr>\n",
              "      <th>149</th>\n",
              "      <td>5.1</td>\n",
              "      <td>1.8</td>\n",
              "    </tr>\n",
              "  </tbody>\n",
              "</table>\n",
              "<p>150 rows × 2 columns</p>\n",
              "</div>\n",
              "      <button class=\"colab-df-convert\" onclick=\"convertToInteractive('df-8769539a-fd40-4682-b1e2-a474dc4156e6')\"\n",
              "              title=\"Convert this dataframe to an interactive table.\"\n",
              "              style=\"display:none;\">\n",
              "        \n",
              "  <svg xmlns=\"http://www.w3.org/2000/svg\" height=\"24px\"viewBox=\"0 0 24 24\"\n",
              "       width=\"24px\">\n",
              "    <path d=\"M0 0h24v24H0V0z\" fill=\"none\"/>\n",
              "    <path d=\"M18.56 5.44l.94 2.06.94-2.06 2.06-.94-2.06-.94-.94-2.06-.94 2.06-2.06.94zm-11 1L8.5 8.5l.94-2.06 2.06-.94-2.06-.94L8.5 2.5l-.94 2.06-2.06.94zm10 10l.94 2.06.94-2.06 2.06-.94-2.06-.94-.94-2.06-.94 2.06-2.06.94z\"/><path d=\"M17.41 7.96l-1.37-1.37c-.4-.4-.92-.59-1.43-.59-.52 0-1.04.2-1.43.59L10.3 9.45l-7.72 7.72c-.78.78-.78 2.05 0 2.83L4 21.41c.39.39.9.59 1.41.59.51 0 1.02-.2 1.41-.59l7.78-7.78 2.81-2.81c.8-.78.8-2.07 0-2.86zM5.41 20L4 18.59l7.72-7.72 1.47 1.35L5.41 20z\"/>\n",
              "  </svg>\n",
              "      </button>\n",
              "      \n",
              "  <style>\n",
              "    .colab-df-container {\n",
              "      display:flex;\n",
              "      flex-wrap:wrap;\n",
              "      gap: 12px;\n",
              "    }\n",
              "\n",
              "    .colab-df-convert {\n",
              "      background-color: #E8F0FE;\n",
              "      border: none;\n",
              "      border-radius: 50%;\n",
              "      cursor: pointer;\n",
              "      display: none;\n",
              "      fill: #1967D2;\n",
              "      height: 32px;\n",
              "      padding: 0 0 0 0;\n",
              "      width: 32px;\n",
              "    }\n",
              "\n",
              "    .colab-df-convert:hover {\n",
              "      background-color: #E2EBFA;\n",
              "      box-shadow: 0px 1px 2px rgba(60, 64, 67, 0.3), 0px 1px 3px 1px rgba(60, 64, 67, 0.15);\n",
              "      fill: #174EA6;\n",
              "    }\n",
              "\n",
              "    [theme=dark] .colab-df-convert {\n",
              "      background-color: #3B4455;\n",
              "      fill: #D2E3FC;\n",
              "    }\n",
              "\n",
              "    [theme=dark] .colab-df-convert:hover {\n",
              "      background-color: #434B5C;\n",
              "      box-shadow: 0px 1px 3px 1px rgba(0, 0, 0, 0.15);\n",
              "      filter: drop-shadow(0px 1px 2px rgba(0, 0, 0, 0.3));\n",
              "      fill: #FFFFFF;\n",
              "    }\n",
              "  </style>\n",
              "\n",
              "      <script>\n",
              "        const buttonEl =\n",
              "          document.querySelector('#df-8769539a-fd40-4682-b1e2-a474dc4156e6 button.colab-df-convert');\n",
              "        buttonEl.style.display =\n",
              "          google.colab.kernel.accessAllowed ? 'block' : 'none';\n",
              "\n",
              "        async function convertToInteractive(key) {\n",
              "          const element = document.querySelector('#df-8769539a-fd40-4682-b1e2-a474dc4156e6');\n",
              "          const dataTable =\n",
              "            await google.colab.kernel.invokeFunction('convertToInteractive',\n",
              "                                                     [key], {});\n",
              "          if (!dataTable) return;\n",
              "\n",
              "          const docLinkHtml = 'Like what you see? Visit the ' +\n",
              "            '<a target=\"_blank\" href=https://colab.research.google.com/notebooks/data_table.ipynb>data table notebook</a>'\n",
              "            + ' to learn more about interactive tables.';\n",
              "          element.innerHTML = '';\n",
              "          dataTable['output_type'] = 'display_data';\n",
              "          await google.colab.output.renderOutput(dataTable, element);\n",
              "          const docLink = document.createElement('div');\n",
              "          docLink.innerHTML = docLinkHtml;\n",
              "          element.appendChild(docLink);\n",
              "        }\n",
              "      </script>\n",
              "    </div>\n",
              "  </div>\n",
              "  "
            ]
          },
          "metadata": {},
          "execution_count": 25
        }
      ]
    },
    {
      "cell_type": "code",
      "source": [
        "#Testing the model on preprocessed petal dimensions features\n",
        "prepedPetalFeatures = []  #using this list to summarize the performance of each training method at the end\n",
        "for name, model in models:\n",
        "  #print(name+\":\")\n",
        "  result=cross_val_score(model, selFeat, Y, cv=5, scoring='accuracy')\n",
        "  prepedPetalFeatures.append(result.mean())\n",
        "  #print(\"Accuracy: %.4f (%.4f)\\n\" % (result.mean(), result.std()))"
      ],
      "metadata": {
        "id": "HpTobIdkmMoR"
      },
      "execution_count": null,
      "outputs": []
    },
    {
      "cell_type": "code",
      "source": [
        "#Testing the models on preprocessed features (all 4)\n",
        "prepedAllFeatures = []\n",
        "for name, model in models:\n",
        "  #print(name+\":\")\n",
        "  result=cross_val_score(model, prepedDatafr, Y, cv=5, scoring='accuracy')\n",
        "  prepedAllFeatures.append(result.mean())\n",
        "  #print(\"Accuracy: %.4f (%.3f)\\n\" % (result.mean(), result.std()))"
      ],
      "metadata": {
        "id": "MrPBoBAKyO4T"
      },
      "execution_count": null,
      "outputs": []
    },
    {
      "cell_type": "code",
      "source": [
        "#Testing on raw values for all 4 features\n",
        "rawAllResults = []\n",
        "for name, model in models:\n",
        "  #print(name+\":\")\n",
        "  result=cross_val_score(model, X, Y, cv=10, scoring='accuracy')\n",
        "  rawAllResults.append(result.mean())\n",
        "  #print(\"Accuracy: %.4f (%.3f)\" % (result.mean(), result.std()))"
      ],
      "metadata": {
        "id": "MrQTYpUXy8ox"
      },
      "execution_count": null,
      "outputs": []
    },
    {
      "cell_type": "code",
      "source": [
        "#Testing on raw values for petal dimension features\n",
        "rawPetalsResults = []\n",
        "for name, model in models:\n",
        "  #print(name+\":\")\n",
        "  result=cross_val_score(model, rawSelFeat, Y, cv=10, scoring='accuracy')\n",
        "  rawPetalsResults.append(result.mean())\n",
        "  #print(\"Accuracy: %.4f (%.3f)\" % (result.mean(), result.std()))"
      ],
      "metadata": {
        "id": "OdOBvY8r1POs"
      },
      "execution_count": null,
      "outputs": []
    },
    {
      "cell_type": "code",
      "source": [
        "#Visualizing accuracy of all models from all tuns together\n",
        "model_names = []\n",
        "for name, model in models:\n",
        "  model_names.append(name)\n",
        "summarized = pd.DataFrame(data = [rawAllResults, rawPetalsResults, prepedAllFeatures, prepedPetalFeatures], columns = model_names, index = ['raw-all-features', 'raw-petal-features', 'processed-all-features', 'processed-petal-features'])\n",
        "summarized"
      ],
      "metadata": {
        "colab": {
          "base_uri": "https://localhost:8080/",
          "height": 175
        },
        "id": "XwTuh29i6VNC",
        "outputId": "dd920276-410c-468f-e85b-bf58de0f70f3"
      },
      "execution_count": null,
      "outputs": [
        {
          "output_type": "execute_result",
          "data": {
            "text/plain": [
              "                          Logistic regression  Decision tree     Ridge  \\\n",
              "raw-all-features                     0.973333       0.960000  0.840000   \n",
              "raw-petal-features                   0.960000       0.946667  0.760000   \n",
              "processed-all-features               0.926667       0.953333  0.846667   \n",
              "processed-petal-features             0.960000       0.953333  0.740000   \n",
              "\n",
              "                          Random forest  Linear SVC  Nearest centroid  \n",
              "raw-all-features               0.960000    0.966667          0.933333  \n",
              "raw-petal-features             0.960000    0.940000          0.966667  \n",
              "processed-all-features         0.966667    0.913333          0.933333  \n",
              "processed-petal-features       0.960000    0.940000          0.960000  "
            ],
            "text/html": [
              "\n",
              "  <div id=\"df-898f67d5-00e1-4bc0-867a-5c5d477061ba\">\n",
              "    <div class=\"colab-df-container\">\n",
              "      <div>\n",
              "<style scoped>\n",
              "    .dataframe tbody tr th:only-of-type {\n",
              "        vertical-align: middle;\n",
              "    }\n",
              "\n",
              "    .dataframe tbody tr th {\n",
              "        vertical-align: top;\n",
              "    }\n",
              "\n",
              "    .dataframe thead th {\n",
              "        text-align: right;\n",
              "    }\n",
              "</style>\n",
              "<table border=\"1\" class=\"dataframe\">\n",
              "  <thead>\n",
              "    <tr style=\"text-align: right;\">\n",
              "      <th></th>\n",
              "      <th>Logistic regression</th>\n",
              "      <th>Decision tree</th>\n",
              "      <th>Ridge</th>\n",
              "      <th>Random forest</th>\n",
              "      <th>Linear SVC</th>\n",
              "      <th>Nearest centroid</th>\n",
              "    </tr>\n",
              "  </thead>\n",
              "  <tbody>\n",
              "    <tr>\n",
              "      <th>raw-all-features</th>\n",
              "      <td>0.973333</td>\n",
              "      <td>0.960000</td>\n",
              "      <td>0.840000</td>\n",
              "      <td>0.960000</td>\n",
              "      <td>0.966667</td>\n",
              "      <td>0.933333</td>\n",
              "    </tr>\n",
              "    <tr>\n",
              "      <th>raw-petal-features</th>\n",
              "      <td>0.960000</td>\n",
              "      <td>0.946667</td>\n",
              "      <td>0.760000</td>\n",
              "      <td>0.960000</td>\n",
              "      <td>0.940000</td>\n",
              "      <td>0.966667</td>\n",
              "    </tr>\n",
              "    <tr>\n",
              "      <th>processed-all-features</th>\n",
              "      <td>0.926667</td>\n",
              "      <td>0.953333</td>\n",
              "      <td>0.846667</td>\n",
              "      <td>0.966667</td>\n",
              "      <td>0.913333</td>\n",
              "      <td>0.933333</td>\n",
              "    </tr>\n",
              "    <tr>\n",
              "      <th>processed-petal-features</th>\n",
              "      <td>0.960000</td>\n",
              "      <td>0.953333</td>\n",
              "      <td>0.740000</td>\n",
              "      <td>0.960000</td>\n",
              "      <td>0.940000</td>\n",
              "      <td>0.960000</td>\n",
              "    </tr>\n",
              "  </tbody>\n",
              "</table>\n",
              "</div>\n",
              "      <button class=\"colab-df-convert\" onclick=\"convertToInteractive('df-898f67d5-00e1-4bc0-867a-5c5d477061ba')\"\n",
              "              title=\"Convert this dataframe to an interactive table.\"\n",
              "              style=\"display:none;\">\n",
              "        \n",
              "  <svg xmlns=\"http://www.w3.org/2000/svg\" height=\"24px\"viewBox=\"0 0 24 24\"\n",
              "       width=\"24px\">\n",
              "    <path d=\"M0 0h24v24H0V0z\" fill=\"none\"/>\n",
              "    <path d=\"M18.56 5.44l.94 2.06.94-2.06 2.06-.94-2.06-.94-.94-2.06-.94 2.06-2.06.94zm-11 1L8.5 8.5l.94-2.06 2.06-.94-2.06-.94L8.5 2.5l-.94 2.06-2.06.94zm10 10l.94 2.06.94-2.06 2.06-.94-2.06-.94-.94-2.06-.94 2.06-2.06.94z\"/><path d=\"M17.41 7.96l-1.37-1.37c-.4-.4-.92-.59-1.43-.59-.52 0-1.04.2-1.43.59L10.3 9.45l-7.72 7.72c-.78.78-.78 2.05 0 2.83L4 21.41c.39.39.9.59 1.41.59.51 0 1.02-.2 1.41-.59l7.78-7.78 2.81-2.81c.8-.78.8-2.07 0-2.86zM5.41 20L4 18.59l7.72-7.72 1.47 1.35L5.41 20z\"/>\n",
              "  </svg>\n",
              "      </button>\n",
              "      \n",
              "  <style>\n",
              "    .colab-df-container {\n",
              "      display:flex;\n",
              "      flex-wrap:wrap;\n",
              "      gap: 12px;\n",
              "    }\n",
              "\n",
              "    .colab-df-convert {\n",
              "      background-color: #E8F0FE;\n",
              "      border: none;\n",
              "      border-radius: 50%;\n",
              "      cursor: pointer;\n",
              "      display: none;\n",
              "      fill: #1967D2;\n",
              "      height: 32px;\n",
              "      padding: 0 0 0 0;\n",
              "      width: 32px;\n",
              "    }\n",
              "\n",
              "    .colab-df-convert:hover {\n",
              "      background-color: #E2EBFA;\n",
              "      box-shadow: 0px 1px 2px rgba(60, 64, 67, 0.3), 0px 1px 3px 1px rgba(60, 64, 67, 0.15);\n",
              "      fill: #174EA6;\n",
              "    }\n",
              "\n",
              "    [theme=dark] .colab-df-convert {\n",
              "      background-color: #3B4455;\n",
              "      fill: #D2E3FC;\n",
              "    }\n",
              "\n",
              "    [theme=dark] .colab-df-convert:hover {\n",
              "      background-color: #434B5C;\n",
              "      box-shadow: 0px 1px 3px 1px rgba(0, 0, 0, 0.15);\n",
              "      filter: drop-shadow(0px 1px 2px rgba(0, 0, 0, 0.3));\n",
              "      fill: #FFFFFF;\n",
              "    }\n",
              "  </style>\n",
              "\n",
              "      <script>\n",
              "        const buttonEl =\n",
              "          document.querySelector('#df-898f67d5-00e1-4bc0-867a-5c5d477061ba button.colab-df-convert');\n",
              "        buttonEl.style.display =\n",
              "          google.colab.kernel.accessAllowed ? 'block' : 'none';\n",
              "\n",
              "        async function convertToInteractive(key) {\n",
              "          const element = document.querySelector('#df-898f67d5-00e1-4bc0-867a-5c5d477061ba');\n",
              "          const dataTable =\n",
              "            await google.colab.kernel.invokeFunction('convertToInteractive',\n",
              "                                                     [key], {});\n",
              "          if (!dataTable) return;\n",
              "\n",
              "          const docLinkHtml = 'Like what you see? Visit the ' +\n",
              "            '<a target=\"_blank\" href=https://colab.research.google.com/notebooks/data_table.ipynb>data table notebook</a>'\n",
              "            + ' to learn more about interactive tables.';\n",
              "          element.innerHTML = '';\n",
              "          dataTable['output_type'] = 'display_data';\n",
              "          await google.colab.output.renderOutput(dataTable, element);\n",
              "          const docLink = document.createElement('div');\n",
              "          docLink.innerHTML = docLinkHtml;\n",
              "          element.appendChild(docLink);\n",
              "        }\n",
              "      </script>\n",
              "    </div>\n",
              "  </div>\n",
              "  "
            ]
          },
          "metadata": {},
          "execution_count": 30
        }
      ]
    },
    {
      "cell_type": "code",
      "source": [
        "print(summarized.max(axis=1)) #getting max values of each input\n",
        "print(summarized.max(axis=0)) #getting max values of each model"
      ],
      "metadata": {
        "colab": {
          "base_uri": "https://localhost:8080/"
        },
        "id": "Ar9FiVJt-vNN",
        "outputId": "6c6df738-2d91-4801-b5ce-1241a498d2a3"
      },
      "execution_count": null,
      "outputs": [
        {
          "output_type": "stream",
          "name": "stdout",
          "text": [
            "raw-all-features            0.973333\n",
            "raw-petal-features          0.966667\n",
            "processed-all-features      0.966667\n",
            "processed-petal-features    0.960000\n",
            "dtype: float64\n",
            "Logistic regression    0.973333\n",
            "Decision tree          0.960000\n",
            "Ridge                  0.846667\n",
            "Random forest          0.966667\n",
            "Linear SVC             0.966667\n",
            "Nearest centroid       0.966667\n",
            "dtype: float64\n"
          ]
        }
      ]
    },
    {
      "cell_type": "markdown",
      "source": [
        "The raw, complete data set gives the best accuracy. This indicates that the iris data set contains very good data, which needs no preprocessing to give good predictions.   \n",
        "The best performing model on this data set is Logistic regression. This is the algorithm which will be further tuned in next steps."
      ],
      "metadata": {
        "id": "rRUZMQFv_TKT"
      }
    },
    {
      "cell_type": "markdown",
      "source": [
        "Now confusion matrices will be generated for all algorithms which were used. This is done by splitting the data set into a part which will be used to train the models, and a part which will be used to test and produce the confusion matrix. "
      ],
      "metadata": {
        "id": "gEbN9cUcBNYs"
      }
    },
    {
      "cell_type": "code",
      "source": [
        "from sklearn.model_selection import train_test_split\n",
        "from sklearn.metrics import confusion_matrix"
      ],
      "metadata": {
        "id": "3g2o7zCdBEDr"
      },
      "execution_count": null,
      "outputs": []
    },
    {
      "cell_type": "code",
      "source": [
        "#Getting cross validation confusion matrix for all used algorithms on the raw data set containing all 4 features\n",
        "testSize=0.2  #proportion of the data set to be included in the test split\n",
        "seed=5        #impacts the shuffling of data done before performing the split\n",
        "X_train,X_test,Y_train,Y_test=train_test_split(X, Y, test_size=testSize, random_state=seed)\n",
        "for name, model in models:\n",
        "  model.fit(X_train, Y_train)\n",
        "  predicted = model.predict(X_test)\n",
        "  matrix=confusion_matrix(Y_test, predicted)\n",
        "  print(name+\":\")\n",
        "  print(matrix)"
      ],
      "metadata": {
        "colab": {
          "base_uri": "https://localhost:8080/"
        },
        "id": "kPxzPNKGAaOq",
        "outputId": "2cc280ea-8ed6-4655-ca97-6fc520435945"
      },
      "execution_count": null,
      "outputs": [
        {
          "output_type": "stream",
          "name": "stdout",
          "text": [
            "Logistic regression:\n",
            "[[ 8  0  0]\n",
            " [ 0 10  1]\n",
            " [ 0  0 11]]\n",
            "Decision tree:\n",
            "[[ 8  0  0]\n",
            " [ 0  9  2]\n",
            " [ 0  0 11]]\n",
            "Ridge:\n",
            "[[8 0 0]\n",
            " [0 7 4]\n",
            " [0 4 7]]\n",
            "Random forest:\n",
            "[[ 8  0  0]\n",
            " [ 0 10  1]\n",
            " [ 0  2  9]]\n",
            "Linear SVC:\n",
            "[[ 8  0  0]\n",
            " [ 0  8  3]\n",
            " [ 0  1 10]]\n",
            "Nearest centroid:\n",
            "[[ 8  0  0]\n",
            " [ 0 11  0]\n",
            " [ 0  0 11]]\n"
          ]
        }
      ]
    },
    {
      "cell_type": "markdown",
      "source": [
        "The values on the diagonal of the confsion matrix represent correctly predicted examples. In this validation method the best performing model is Nearest centroid, since its diagonal has the most values. Logistic regression is very close to it in performance.  \n",
        "The reason why the result here is different compared to the calculated accuracy is probably due to the fact that when accuracy was being calculated technique of k-fold cross validation was employed (meaning k folds are created, k-1 are used for training and 1 fold for testing), while in this instance the data set was simpy split into training and testing part and the confusion matrix is obtained from these calculations.\n"
      ],
      "metadata": {
        "id": "Jzh2nuggCv80"
      }
    },
    {
      "cell_type": "markdown",
      "source": [
        "# 6. Algorithm tuning  \n",
        "Algorithm tuning is applied to get better performance out of a model. It is done by optimizing the hyperparameters of the model, so it is better at predicting outcomes.  \n",
        "Since Logistic regresion is the best performing model, I will attempt parameter tuning on it. I will try to improve the accuracy of this algorithm on the iris data set, by tuning the C hyperparameter, which controls penalty strength. Smaller values of C instruct the model to give more wieght to the training data, and higher C instruct it to put more weight on complexity even at the cost of fitting thedata. Also, I will try to see which solver performs the best.  \n",
        "I will use grid search parameter tuning.\n"
      ],
      "metadata": {
        "id": "Tw14LXewRVYz"
      }
    },
    {
      "cell_type": "code",
      "source": [
        "from sklearn.model_selection import GridSearchCV "
      ],
      "metadata": {
        "id": "TfyY5lwMSEOF"
      },
      "execution_count": null,
      "outputs": []
    },
    {
      "cell_type": "code",
      "source": [
        "#cVals=np.array([1000, 100, 10, 0.1, 0.01, 0.001]) \n",
        "#the result was that the best hypeparameter is 10, so now we try with values close to 10 to see if it can do better with best score of 0.98125\n",
        "#cVals=np.array([11, 10, 8])\n",
        "cVals=np.array([11.5, 11, 10.5, 10])\n",
        "solverOptions=['lbfgs', 'sag', 'saga', 'newton-cg']  #I omit the liblinear solver, due to incompatibility with multinomial\n",
        "paramGrid=dict(C=cVals, solver=solverOptions) #converting hyperparameter values into a dictionary, since GridSearchCV class needs them in that form to use as a parameter\n",
        "grid=GridSearchCV(estimator=LogisticRegression(multi_class='multinomial', max_iter=5000), param_grid=paramGrid, scoring='accuracy',\n",
        "                  cv=40) #cv parameter determines the number of folds to be performed in StratifiedKFold\n",
        "grid.fit(X, Y)\n",
        "print(grid.best_score_)\n",
        "#print(grid.best_estimator_.C)\n",
        "print(grid.best_params_)"
      ],
      "metadata": {
        "colab": {
          "base_uri": "https://localhost:8080/"
        },
        "id": "NhwuxXGfU9sc",
        "outputId": "3ebfbf40-8e84-421b-abf7-4e0dc5069039"
      },
      "execution_count": null,
      "outputs": [
        {
          "output_type": "stream",
          "name": "stdout",
          "text": [
            "0.98125\n",
            "{'C': 10.5, 'solver': 'sag'}\n"
          ]
        }
      ]
    },
    {
      "cell_type": "markdown",
      "source": [
        "The best score remains 0.98125 for C = 10.5, so it can be concluded that the \n",
        "Logisitc regression model performs best on the iris dataset with the C hyperparameter with value 10.5 and using the sag solver.  \n",
        "Let's check how setting these two parameters will impact the accuracy of the model."
      ],
      "metadata": {
        "id": "1wnW86OZYYhd"
      }
    },
    {
      "cell_type": "code",
      "source": [
        "result=cross_val_score(LogisticRegression(solver='sag', max_iter=5000, multi_class='multinomial', C=10.5), X, Y, cv=5, scoring='accuracy')\n",
        "print(\"Accuracy after parameter tuning: %.4f (%.3f)\" % (result.mean(), result.std()))"
      ],
      "metadata": {
        "colab": {
          "base_uri": "https://localhost:8080/"
        },
        "id": "hP3az0s2btXh",
        "outputId": "6b5127b9-72c5-483f-916c-bda6eb6bafca"
      },
      "execution_count": null,
      "outputs": [
        {
          "output_type": "stream",
          "name": "stdout",
          "text": [
            "Accuracy after parameter tuning: 0.9800 (0.027)\n"
          ]
        }
      ]
    },
    {
      "cell_type": "markdown",
      "source": [
        "The accuracy before parameter tuning was 0.9733, so parameter tuning has improved the accuracy."
      ],
      "metadata": {
        "id": "DkgSOkrNhn5V"
      }
    },
    {
      "cell_type": "markdown",
      "source": [
        "# 7. Final remarks  \n",
        "The best performing model on the iris data set out of the six models I tried to train is Logistic regression. With some parameter tuning, it reached the accuracy of 98%, which is very good.  \n",
        "The algorithm performed best using all four features in the data set without any preprocessing applied. In the pipeline I performed preprocessing steps, as well as feature selection because those steps are generally very importan when doing machine learning. As an ML practitioner you usually have no control of the data you get to work with, so data can be of varying quality. In instances when the data set you are working with is of poor quality or has a thousands of features, some of which may be on widely different scales and in different interactions, it's crucial to preprocess the data and select proper features to improve and even make possible a machine learning algorithm to work on them. The iris data set clearly contains data of good quality, and a small number of features which are all on the same scale, so there isn't such a strong need to perform preprocessing since the final result is better when doing everything with raw data. However, data preprocessing didn't significantly decrease the performance of some of these algorithms. This may imply that if some other models were used, the preprocessed and feature-selected training data would outperform the raw data. Nonetheless, the fact that certain learning algorithms perform well on the raw iris data set remains."
      ],
      "metadata": {
        "id": "u5Il5Sx2hvQx"
      }
    }
  ]
}